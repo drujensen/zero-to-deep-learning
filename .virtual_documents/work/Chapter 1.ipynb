import numpy as np


a = np.array([1, 3, 2, 4])


a


type(a)


a?


b = np.array([[8, 5, 6, 1],
              [4, 3, 0, 7],
              [1, 3, 2, 9]])
c = np.array([[[1, 2, 3],
               [4, 3, 6]],
              [[8, 5, 1],
               [5, 2, 7]],
              [[0, 4, 5],
               [8, 9, 1]],
              [[1, 2, 6],
               [3, 7, 4]]])


b


c


a.shape


b.shape


c.shape


c[2, 0]


b[:, 0]


a[0:2]


a


b[:1, :1]


a[1:3]





a[1:]



a[0:-1]



a[::2]


a


one = np.array([1, 2])
two = np.array([3, 4])


one + two


%matplotlib inline
import matplotlib.pyplot as plt


plt.plot(a)


plt.plot(b, 'o-')


plt.plot(b.transpose(), 'd-')


plt.figure(figsize = (9, 6))


plt.plot(b[0], color='green', linestyle='dashed', marker='o',
               markerfacecolor='blue', markersize=12 )


plt.plot(b[1], 'D-.', markersize=12 )


plt.xlabel('Remember to label the X axis', fontsize=12)
plt.ylabel('And the Y axis too', fontsize=12)
plt.title(r'Big Title, greek and math: $\alpha \sum \dot x \^y$', fontsize=16)


plt.axvline(1.5, color='orange', linewidth=4)
plt.annotate(xy=(1.5, 5.5), xytext=(1.6, 7),
             s="Very important point",
             arrowprops={"arrowstyle": '-|>'},
             fontsize=12)
plt.text(0, 0.5, "Some Unimportant Text", fontsize=12)
plt.legend(['Series 1', 'Series 2'])


plt.figure(figsize = (9, 6))
plt.plot(b[0], color='green', linestyle='dashed', marker='o',
               markerfacecolor='blue', markersize=12 )
plt.plot(b[1], 'D-.', markersize=12 )
plt.xlabel('Remember to label the X axis', fontsize=12)
plt.ylabel('And the Y axis too', fontsize=12)
plt.title(r'Big Title, greek and math: $\alpha \sum \dot x \^y$', fontsize=16)
plt.axvline(1.5, color='orange', linewidth=4)
plt.annotate(xy=(1.5, 5.5), xytext=(1.6, 7),
             s="Very important point",
             arrowprops={"arrowstyle": '-|>'},
             fontsize=12)
plt.text(0, 0.5, "Some Unimportant Text", fontsize=12)
plt.legend(['Series 1', 'Series 2'])


from sklearn.datasets.samples_generator import make_circles


X, y = make_circles(n_samples=1000,
                      noise=0.1,
                      factor=0.2,
                      random_state=0)


X


plt.figure(figsize=(5, 5))
plt.plot(X[y==0, 0], X[y==0, 1], 'ob', alpha=0.5)
plt.plot(X[y==1, 0], X[y==1, 1], 'xr', alpha=0.5)
plt.xlim(-1.5, 1.5)
plt.ylim(-1.5, 1.5)
plt.legend(['0', '1'])
plt.title("Blue circles and Red crosses")


X[0, 0]


from keras.models import Sequential
from keras.layers import Dense
from keras.optimizers import SGD



model = Sequential()
model.add(Dense(4, input_shape=(2,), activation='tanh'))
model.add(Dense(1, activation='sigmoid'))
model.compile(SGD(lr=0.5), 'binary_crossentropy', metrics=['accuracy'])
model.fit(X, y, epochs=20)


hticks = np.linspace(-1.5, 1.5, 101)
vticks = np.linspace(-1.5, 1.5, 101)
hticks[:10]


aa, bb = np.meshgrid(hticks, vticks)


aa.shape


plt.figure(figsize=(10,10))
plt.scatter(aa, bb, s=0.3, color='blue')
plt.scatter(aa[50], bb[50], s=5, color='green')
plt.scatter(aa[:, 50], bb[:, 50], s=5, color='red')
plt.show()


ab = np.c_[aa.ravel(), bb.ravel()]


c = model.predict(ab)


cc = c.reshape(aa.shape)


plt.figure(figsize=(10, 10))
plt.scatter(aa, bb, s=20*cc)


plt.figure(figsize=(10, 10))
plt.contourf(aa, bb, cc, cmap='bwr', alpha=0.2)
plt.plot(X[y==0, 0], X[y==0, 1], 'ob', alpha=0.5)
plt.plot(X[y==1, 0], X[y==1, 1], 'xr', alpha=0.5)
plt.title("Blue circles and Red crosses")


a = np.zeros((10,10))


a[::2,::2] = 1


a[1::2,1::2] = 1


a


b = [5,6,7,8,9,10,11,12,13,14]


b


c = np.reshape(b, (-1, 1)) * a


c.mean()


c.std()


plt.imshow(a)



